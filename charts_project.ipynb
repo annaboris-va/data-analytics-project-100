{
 "cells": [
  {
   "cell_type": "markdown",
   "id": "3d5d1c9b-a653-46c3-a3f5-022a38553160",
   "metadata": {},
   "source": [
    "# Проект \"Дашборд конверсий\""
   ]
  },
  {
   "cell_type": "markdown",
   "id": "f2645b11-43e6-4098-b800-0084baaed06b",
   "metadata": {},
   "source": [
    "## Работа с данными"
   ]
  },
  {
   "cell_type": "code",
   "execution_count": 1,
   "id": "89bbcffe-e1ca-417c-9760-2bb91f8788ec",
   "metadata": {},
   "outputs": [],
   "source": [
    "import pandas as pd\n",
    "import numpy as np\n",
    "import requests\n",
    "import os\n",
    "from dotenv import load_dotenv"
   ]
  },
  {
   "cell_type": "code",
   "execution_count": 2,
   "id": "1dbf35c5-15b6-4552-b972-078108dfde39",
   "metadata": {},
   "outputs": [],
   "source": [
    "load_dotenv()\n",
    "\n",
    "DATE_BEGIN = os.getenv('DATE_BEGIN')\n",
    "DATE_END = os.getenv('DATE_END')\n",
    "API_URL = os.getenv('API_URL')"
   ]
  },
  {
   "cell_type": "code",
   "execution_count": 4,
   "id": "4ae82f40-05a6-41f6-817e-2912d59716c4",
   "metadata": {},
   "outputs": [
    {
     "ename": "MissingSchema",
     "evalue": "Invalid URL 'None/visits': No scheme supplied. Perhaps you meant https://None/visits?",
     "output_type": "error",
     "traceback": [
      "\u001b[1;31m---------------------------------------------------------------------------\u001b[0m",
      "\u001b[1;31mMissingSchema\u001b[0m                             Traceback (most recent call last)",
      "Cell \u001b[1;32mIn[4], line 1\u001b[0m\n\u001b[1;32m----> 1\u001b[0m rsp_visits \u001b[38;5;241m=\u001b[39m requests\u001b[38;5;241m.\u001b[39mget(\u001b[38;5;124mf\u001b[39m\u001b[38;5;124m'\u001b[39m\u001b[38;5;132;01m{\u001b[39;00mAPI_URL\u001b[38;5;132;01m}\u001b[39;00m\u001b[38;5;124m/visits\u001b[39m\u001b[38;5;124m'\u001b[39m, params\u001b[38;5;241m=\u001b[39m{\u001b[38;5;124m'\u001b[39m\u001b[38;5;124mbegin\u001b[39m\u001b[38;5;124m'\u001b[39m: DATE_BEGIN, \u001b[38;5;124m'\u001b[39m\u001b[38;5;124mend\u001b[39m\u001b[38;5;124m'\u001b[39m: DATE_END})\n\u001b[0;32m      2\u001b[0m visits_data \u001b[38;5;241m=\u001b[39m rsp_visits\u001b[38;5;241m.\u001b[39mjson()\n\u001b[0;32m      3\u001b[0m visits_df \u001b[38;5;241m=\u001b[39m pd\u001b[38;5;241m.\u001b[39mDataFrame(visits_data)\n",
      "File \u001b[1;32m~\\anaconda3\\Lib\\site-packages\\requests\\api.py:73\u001b[0m, in \u001b[0;36mget\u001b[1;34m(url, params, **kwargs)\u001b[0m\n\u001b[0;32m     62\u001b[0m \u001b[38;5;28;01mdef\u001b[39;00m \u001b[38;5;21mget\u001b[39m(url, params\u001b[38;5;241m=\u001b[39m\u001b[38;5;28;01mNone\u001b[39;00m, \u001b[38;5;241m*\u001b[39m\u001b[38;5;241m*\u001b[39mkwargs):\n\u001b[0;32m     63\u001b[0m \u001b[38;5;250m    \u001b[39m\u001b[38;5;124mr\u001b[39m\u001b[38;5;124;03m\"\"\"Sends a GET request.\u001b[39;00m\n\u001b[0;32m     64\u001b[0m \n\u001b[0;32m     65\u001b[0m \u001b[38;5;124;03m    :param url: URL for the new :class:`Request` object.\u001b[39;00m\n\u001b[1;32m   (...)\u001b[0m\n\u001b[0;32m     70\u001b[0m \u001b[38;5;124;03m    :rtype: requests.Response\u001b[39;00m\n\u001b[0;32m     71\u001b[0m \u001b[38;5;124;03m    \"\"\"\u001b[39;00m\n\u001b[1;32m---> 73\u001b[0m     \u001b[38;5;28;01mreturn\u001b[39;00m request(\u001b[38;5;124m\"\u001b[39m\u001b[38;5;124mget\u001b[39m\u001b[38;5;124m\"\u001b[39m, url, params\u001b[38;5;241m=\u001b[39mparams, \u001b[38;5;241m*\u001b[39m\u001b[38;5;241m*\u001b[39mkwargs)\n",
      "File \u001b[1;32m~\\anaconda3\\Lib\\site-packages\\requests\\api.py:59\u001b[0m, in \u001b[0;36mrequest\u001b[1;34m(method, url, **kwargs)\u001b[0m\n\u001b[0;32m     55\u001b[0m \u001b[38;5;66;03m# By using the 'with' statement we are sure the session is closed, thus we\u001b[39;00m\n\u001b[0;32m     56\u001b[0m \u001b[38;5;66;03m# avoid leaving sockets open which can trigger a ResourceWarning in some\u001b[39;00m\n\u001b[0;32m     57\u001b[0m \u001b[38;5;66;03m# cases, and look like a memory leak in others.\u001b[39;00m\n\u001b[0;32m     58\u001b[0m \u001b[38;5;28;01mwith\u001b[39;00m sessions\u001b[38;5;241m.\u001b[39mSession() \u001b[38;5;28;01mas\u001b[39;00m session:\n\u001b[1;32m---> 59\u001b[0m     \u001b[38;5;28;01mreturn\u001b[39;00m session\u001b[38;5;241m.\u001b[39mrequest(method\u001b[38;5;241m=\u001b[39mmethod, url\u001b[38;5;241m=\u001b[39murl, \u001b[38;5;241m*\u001b[39m\u001b[38;5;241m*\u001b[39mkwargs)\n",
      "File \u001b[1;32m~\\anaconda3\\Lib\\site-packages\\requests\\sessions.py:575\u001b[0m, in \u001b[0;36mSession.request\u001b[1;34m(self, method, url, params, data, headers, cookies, files, auth, timeout, allow_redirects, proxies, hooks, stream, verify, cert, json)\u001b[0m\n\u001b[0;32m    562\u001b[0m \u001b[38;5;66;03m# Create the Request.\u001b[39;00m\n\u001b[0;32m    563\u001b[0m req \u001b[38;5;241m=\u001b[39m Request(\n\u001b[0;32m    564\u001b[0m     method\u001b[38;5;241m=\u001b[39mmethod\u001b[38;5;241m.\u001b[39mupper(),\n\u001b[0;32m    565\u001b[0m     url\u001b[38;5;241m=\u001b[39murl,\n\u001b[1;32m   (...)\u001b[0m\n\u001b[0;32m    573\u001b[0m     hooks\u001b[38;5;241m=\u001b[39mhooks,\n\u001b[0;32m    574\u001b[0m )\n\u001b[1;32m--> 575\u001b[0m prep \u001b[38;5;241m=\u001b[39m \u001b[38;5;28mself\u001b[39m\u001b[38;5;241m.\u001b[39mprepare_request(req)\n\u001b[0;32m    577\u001b[0m proxies \u001b[38;5;241m=\u001b[39m proxies \u001b[38;5;129;01mor\u001b[39;00m {}\n\u001b[0;32m    579\u001b[0m settings \u001b[38;5;241m=\u001b[39m \u001b[38;5;28mself\u001b[39m\u001b[38;5;241m.\u001b[39mmerge_environment_settings(\n\u001b[0;32m    580\u001b[0m     prep\u001b[38;5;241m.\u001b[39murl, proxies, stream, verify, cert\n\u001b[0;32m    581\u001b[0m )\n",
      "File \u001b[1;32m~\\anaconda3\\Lib\\site-packages\\requests\\sessions.py:484\u001b[0m, in \u001b[0;36mSession.prepare_request\u001b[1;34m(self, request)\u001b[0m\n\u001b[0;32m    481\u001b[0m     auth \u001b[38;5;241m=\u001b[39m get_netrc_auth(request\u001b[38;5;241m.\u001b[39murl)\n\u001b[0;32m    483\u001b[0m p \u001b[38;5;241m=\u001b[39m PreparedRequest()\n\u001b[1;32m--> 484\u001b[0m p\u001b[38;5;241m.\u001b[39mprepare(\n\u001b[0;32m    485\u001b[0m     method\u001b[38;5;241m=\u001b[39mrequest\u001b[38;5;241m.\u001b[39mmethod\u001b[38;5;241m.\u001b[39mupper(),\n\u001b[0;32m    486\u001b[0m     url\u001b[38;5;241m=\u001b[39mrequest\u001b[38;5;241m.\u001b[39murl,\n\u001b[0;32m    487\u001b[0m     files\u001b[38;5;241m=\u001b[39mrequest\u001b[38;5;241m.\u001b[39mfiles,\n\u001b[0;32m    488\u001b[0m     data\u001b[38;5;241m=\u001b[39mrequest\u001b[38;5;241m.\u001b[39mdata,\n\u001b[0;32m    489\u001b[0m     json\u001b[38;5;241m=\u001b[39mrequest\u001b[38;5;241m.\u001b[39mjson,\n\u001b[0;32m    490\u001b[0m     headers\u001b[38;5;241m=\u001b[39mmerge_setting(\n\u001b[0;32m    491\u001b[0m         request\u001b[38;5;241m.\u001b[39mheaders, \u001b[38;5;28mself\u001b[39m\u001b[38;5;241m.\u001b[39mheaders, dict_class\u001b[38;5;241m=\u001b[39mCaseInsensitiveDict\n\u001b[0;32m    492\u001b[0m     ),\n\u001b[0;32m    493\u001b[0m     params\u001b[38;5;241m=\u001b[39mmerge_setting(request\u001b[38;5;241m.\u001b[39mparams, \u001b[38;5;28mself\u001b[39m\u001b[38;5;241m.\u001b[39mparams),\n\u001b[0;32m    494\u001b[0m     auth\u001b[38;5;241m=\u001b[39mmerge_setting(auth, \u001b[38;5;28mself\u001b[39m\u001b[38;5;241m.\u001b[39mauth),\n\u001b[0;32m    495\u001b[0m     cookies\u001b[38;5;241m=\u001b[39mmerged_cookies,\n\u001b[0;32m    496\u001b[0m     hooks\u001b[38;5;241m=\u001b[39mmerge_hooks(request\u001b[38;5;241m.\u001b[39mhooks, \u001b[38;5;28mself\u001b[39m\u001b[38;5;241m.\u001b[39mhooks),\n\u001b[0;32m    497\u001b[0m )\n\u001b[0;32m    498\u001b[0m \u001b[38;5;28;01mreturn\u001b[39;00m p\n",
      "File \u001b[1;32m~\\anaconda3\\Lib\\site-packages\\requests\\models.py:367\u001b[0m, in \u001b[0;36mPreparedRequest.prepare\u001b[1;34m(self, method, url, headers, files, data, params, auth, cookies, hooks, json)\u001b[0m\n\u001b[0;32m    364\u001b[0m \u001b[38;5;250m\u001b[39m\u001b[38;5;124;03m\"\"\"Prepares the entire request with the given parameters.\"\"\"\u001b[39;00m\n\u001b[0;32m    366\u001b[0m \u001b[38;5;28mself\u001b[39m\u001b[38;5;241m.\u001b[39mprepare_method(method)\n\u001b[1;32m--> 367\u001b[0m \u001b[38;5;28mself\u001b[39m\u001b[38;5;241m.\u001b[39mprepare_url(url, params)\n\u001b[0;32m    368\u001b[0m \u001b[38;5;28mself\u001b[39m\u001b[38;5;241m.\u001b[39mprepare_headers(headers)\n\u001b[0;32m    369\u001b[0m \u001b[38;5;28mself\u001b[39m\u001b[38;5;241m.\u001b[39mprepare_cookies(cookies)\n",
      "File \u001b[1;32m~\\anaconda3\\Lib\\site-packages\\requests\\models.py:438\u001b[0m, in \u001b[0;36mPreparedRequest.prepare_url\u001b[1;34m(self, url, params)\u001b[0m\n\u001b[0;32m    435\u001b[0m     \u001b[38;5;28;01mraise\u001b[39;00m InvalidURL(\u001b[38;5;241m*\u001b[39me\u001b[38;5;241m.\u001b[39margs)\n\u001b[0;32m    437\u001b[0m \u001b[38;5;28;01mif\u001b[39;00m \u001b[38;5;129;01mnot\u001b[39;00m scheme:\n\u001b[1;32m--> 438\u001b[0m     \u001b[38;5;28;01mraise\u001b[39;00m MissingSchema(\n\u001b[0;32m    439\u001b[0m         \u001b[38;5;124mf\u001b[39m\u001b[38;5;124m\"\u001b[39m\u001b[38;5;124mInvalid URL \u001b[39m\u001b[38;5;132;01m{\u001b[39;00murl\u001b[38;5;132;01m!r}\u001b[39;00m\u001b[38;5;124m: No scheme supplied. \u001b[39m\u001b[38;5;124m\"\u001b[39m\n\u001b[0;32m    440\u001b[0m         \u001b[38;5;124mf\u001b[39m\u001b[38;5;124m\"\u001b[39m\u001b[38;5;124mPerhaps you meant https://\u001b[39m\u001b[38;5;132;01m{\u001b[39;00murl\u001b[38;5;132;01m}\u001b[39;00m\u001b[38;5;124m?\u001b[39m\u001b[38;5;124m\"\u001b[39m\n\u001b[0;32m    441\u001b[0m     )\n\u001b[0;32m    443\u001b[0m \u001b[38;5;28;01mif\u001b[39;00m \u001b[38;5;129;01mnot\u001b[39;00m host:\n\u001b[0;32m    444\u001b[0m     \u001b[38;5;28;01mraise\u001b[39;00m InvalidURL(\u001b[38;5;124mf\u001b[39m\u001b[38;5;124m\"\u001b[39m\u001b[38;5;124mInvalid URL \u001b[39m\u001b[38;5;132;01m{\u001b[39;00murl\u001b[38;5;132;01m!r}\u001b[39;00m\u001b[38;5;124m: No host supplied\u001b[39m\u001b[38;5;124m\"\u001b[39m)\n",
      "\u001b[1;31mMissingSchema\u001b[0m: Invalid URL 'None/visits': No scheme supplied. Perhaps you meant https://None/visits?"
     ]
    }
   ],
   "source": [
    "rsp_visits = requests.get(f'{API_URL}/visits', params={'begin': DATE_BEGIN, 'end': DATE_END})\n",
    "visits_data = rsp_visits.json()\n",
    "visits_df = pd.DataFrame(visits_data)\n",
    "\n",
    "# Исключение ботов\n",
    "visits_df = visits_df[visits_df['user_agent'] != 'bots']\n",
    "\n",
    "# Оставляем только последний визит пользователя\n",
    "visits_df['datetime'] = pd.to_datetime(visits_df['datetime'])\n",
    "visits_df = visits_df.sort_values(by=['datetime']).drop_duplicates(subset=['visit_id'], keep='last')\n",
    "\n",
    "rsp_regs = requests.get(f'{API_URL}/registrations', params={'begin': DATE_BEGIN, 'end': DATE_END})\n",
    "data_regs = rsp_regs.json()\n",
    "regs_df = pd.DataFrame(data_regs)\n",
    "\n",
    "regs_df['datetime'] = pd.to_datetime(regs_df['datetime'])\n",
    "regs_df['date_group'] = regs_df['datetime'].dt.date\n",
    "visits_df['date_group'] = visits_df['datetime'].dt.date\n",
    "\n",
    "regs_grouped = regs_df.groupby(['date_group', 'platform']).size().reset_index(name='registrations')\n",
    "visits_grouped = visits_df.groupby(['date_group', 'platform']).size().reset_index(name='visits')\n",
    "\n",
    "regs_grouped['date_group'] = pd.to_datetime(regs_grouped['date_group'])\n",
    "visits_grouped['date_group'] = pd.to_datetime(visits_grouped['date_group'])\n",
    "\n",
    "# Объединение данных с inner join\n",
    "merged_df = pd.merge(regs_grouped, visits_grouped, on=['date_group', 'platform'], how='inner')\n",
    "\n",
    "# Приведение типов\n",
    "merged_df['registrations'] = merged_df['registrations'].astype(int)\n",
    "merged_df['visits'] = merged_df['visits'].astype(int)\n",
    "\n",
    "# Расчет conversion без округления\n",
    "merged_df['conversion'] = np.where(\n",
    "    merged_df['visits'] == 0, 0, \n",
    "    merged_df['registrations'] / merged_df['visits'] * 100\n",
    ")\n",
    "\n",
    "# Упорядочивание колонок\n",
    "merged_df = merged_df[['date_group', 'platform', 'visits', 'registrations', 'conversion']]\n",
    "\n",
    "# Сохранение JSON\n",
    "merged_df.to_json('./conversion.json')"
   ]
  },
  {
   "cell_type": "code",
   "execution_count": null,
   "id": "c8807158-7f9d-4146-9c68-7892153b4b1e",
   "metadata": {},
   "outputs": [],
   "source": [
    "ads_df = pd.read_csv('ads.csv')\n",
    "ads_df['date'] = pd.to_datetime(ads_df['date'])\n",
    "ads_df['date_group'] = ads_df['date'].dt.date"
   ]
  },
  {
   "cell_type": "code",
   "execution_count": null,
   "id": "34e4a8ae-1e0d-4b19-83ba-2a12bafe9811",
   "metadata": {},
   "outputs": [],
   "source": [
    "ads_grouped = ads_df.groupby(['date_group', 'utm_campaign'])['cost'].sum().reset_index()\n",
    "ads_grouped['date_group'] = pd.to_datetime(ads_grouped['date_group'])\n",
    "merged_df['date_group'] = pd.to_datetime(merged_df['date_group'], unit='ms')"
   ]
  },
  {
   "cell_type": "code",
   "execution_count": null,
   "id": "71aacae8-5f60-4c81-8569-55779ea63ef7",
   "metadata": {},
   "outputs": [],
   "source": [
    "result_df = pd.merge(merged_df, ads_grouped, on='date_group', how='left')\n",
    "result_df.fillna({'cost': 0, 'utm_campaign': 'none'}, inplace=True)\n",
    "result_df.to_json('ads.json', orient='records')"
   ]
  },
  {
   "cell_type": "markdown",
   "id": "e9dd74e8-4a03-4b9c-9027-2ed33b067e98",
   "metadata": {},
   "source": [
    "## Визуализация"
   ]
  },
  {
   "cell_type": "code",
   "execution_count": null,
   "id": "945c9637-0ec4-44f1-9aee-c638e84de4d0",
   "metadata": {},
   "outputs": [],
   "source": [
    "import os\n",
    "\n",
    "chart_dir = 'charts'\n",
    "if not os.path.exists(chart_dir):\n",
    "    os.makedirs(chart_dir)"
   ]
  },
  {
   "cell_type": "code",
   "execution_count": null,
   "id": "09210c9a-6d3a-4de2-80c0-1afcbaaec82b",
   "metadata": {},
   "outputs": [],
   "source": [
    "import matplotlib.pyplot as plt\n",
    "from matplotlib.offsetbox import AnchoredText\n",
    "import matplotlib.cm as cm\n",
    "import seaborn as sns"
   ]
  },
  {
   "cell_type": "code",
   "execution_count": null,
   "id": "2ee17848-cb4f-4e4c-afbb-3042fa160e23",
   "metadata": {},
   "outputs": [],
   "source": [
    "result_df['date_group'] = pd.to_datetime(result_df['date_group'], unit='ms')\n",
    "daily_visits = result_df.groupby('date_group')['visits'].sum().reset_index()"
   ]
  },
  {
   "cell_type": "markdown",
   "id": "5316b9f0-b0f6-4f30-b24e-45918b1b33ec",
   "metadata": {},
   "source": [
    "### Итоговые визиты"
   ]
  },
  {
   "cell_type": "code",
   "execution_count": null,
   "id": "5b2edb44-86dd-49c1-b470-3c29d45a1dae",
   "metadata": {},
   "outputs": [],
   "source": [
    "plt.figure(figsize=(45, 15))\n",
    "plt.bar(daily_visits['date_group'], daily_visits['visits'], color='lightblue', label='Daily Visits')\n",
    "\n",
    "plt.title('Total Visits', fontsize=14)\n",
    "plt.xlabel('date_group', fontsize=12)\n",
    "plt.ylabel('Visits', fontsize=12)\n",
    "plt.xticks(daily_visits['date_group'], rotation=45, fontsize=10)\n",
    "plt.yticks(fontsize=10)\n",
    "plt.grid(axis='y', linestyle='-', alpha=0.7)\n",
    "plt.legend(fontsize=10)\n",
    "\n",
    "plt.xlim(daily_visits['date_group'].iloc[0], daily_visits['date_group'].iloc[-1])\n",
    "\n",
    "for x, y in zip(daily_visits['date_group'], daily_visits['visits']):\n",
    "    plt.text(x, y + 0.02 * max(daily_visits['visits']), str(y), ha='center', fontsize=9)\n",
    "\n",
    "plt.tight_layout()\n",
    "plt.savefig('./charts/total_visits.png', dpi=300, bbox_inches='tight')\n",
    "plt.show()"
   ]
  },
  {
   "cell_type": "markdown",
   "id": "3111f736-d34e-4dae-8470-28e13823c47d",
   "metadata": {},
   "source": [
    "### Итоговые визиты с разбивкой по платформам: web, android, ios"
   ]
  },
  {
   "cell_type": "code",
   "execution_count": null,
   "id": "f9ca9ed6-d964-4e13-bd45-65b05fb192e2",
   "metadata": {},
   "outputs": [],
   "source": [
    "result_df_no_bot = result_df[result_df['platform'] != 'bot']\n",
    "\n",
    "platform_visits_no_bot = result_df_no_bot.groupby(['date_group', 'platform'])['visits'].sum().unstack(fill_value=0)\n",
    "\n",
    "plt.figure(figsize=(45, 15))\n",
    "\n",
    "platform_visits_no_bot.plot(kind='bar', stacked=True, color=['lightblue', 'lightgreen', 'lightcoral'], ax=plt.gca())\n",
    "\n",
    "plt.title('Visits by Platform (Stacked)', fontsize=14)\n",
    "plt.xlabel('date_group', fontsize=12)\n",
    "plt.ylabel('Visits', fontsize=12)\n",
    "plt.xticks(ticks=range(len(platform_visits_no_bot.index)), labels=platform_visits_no_bot.index.date, rotation=45, fontsize=10)\n",
    "plt.yticks(fontsize=10)\n",
    "\n",
    "plt.grid(axis='y', linestyle='-', alpha=0.5)\n",
    "plt.grid(axis='x', linestyle='-', alpha=0.5)\n",
    "\n",
    "plt.legend(title='platform', fontsize=10)\n",
    "\n",
    "plt.tight_layout()\n",
    "plt.savefig('./charts/visits_by_platform.png', dpi=300, bbox_inches='tight')\n",
    "plt.show()"
   ]
  },
  {
   "cell_type": "markdown",
   "id": "a3907458-bc25-4bdb-9cee-a1f6c57c8c2a",
   "metadata": {},
   "source": [
    "### Итоговые регистрации"
   ]
  },
  {
   "cell_type": "code",
   "execution_count": null,
   "id": "9ae5534b-d322-4fef-8e22-fb25b4683dfa",
   "metadata": {},
   "outputs": [],
   "source": [
    "daily_visits = result_df.groupby('date_group')['registrations'].sum().reset_index()\n",
    "\n",
    "plt.figure(figsize=(45, 15))\n",
    "plt.bar(daily_visits['date_group'], daily_visits['registrations'], color='lightblue', label='Daily Registrations')\n",
    "\n",
    "plt.title('Total Registrations', fontsize=14)\n",
    "plt.xlabel('date_group', fontsize=12)\n",
    "plt.ylabel('registrations', fontsize=12)\n",
    "plt.xticks(daily_visits['date_group'], rotation=45, fontsize=10)\n",
    "plt.yticks(fontsize=10)\n",
    "plt.grid(axis='y', linestyle='-', alpha=0.7)\n",
    "plt.legend(fontsize=10)\n",
    "\n",
    "plt.xlim(daily_visits['date_group'].iloc[0], daily_visits['date_group'].iloc[-1])\n",
    "\n",
    "for x, y in zip(daily_visits['date_group'], daily_visits['registrations']):\n",
    "    plt.text(x, y + 0.02 * max(daily_visits['registrations']), str(y), ha='center', fontsize=9)\n",
    "\n",
    "plt.tight_layout()\n",
    "plt.savefig('./charts/total_registrations.png', dpi=300, bbox_inches='tight')\n",
    "plt.show()"
   ]
  },
  {
   "cell_type": "markdown",
   "id": "9a671601-2a00-47c6-bab8-6d44ba349726",
   "metadata": {},
   "source": [
    "### Итоговые регистрации с разбивкой по платформе: web, android, ios"
   ]
  },
  {
   "cell_type": "code",
   "execution_count": null,
   "id": "f4ba3641-5d58-4321-92ff-9f9522c56cfc",
   "metadata": {},
   "outputs": [],
   "source": [
    "result_df_no_bot = result_df[result_df['platform'] != 'bot']\n",
    "\n",
    "platform_visits_no_bot = result_df_no_bot.groupby(['date_group', 'platform'])['registrations'].sum().unstack(fill_value=0)\n",
    "\n",
    "plt.figure(figsize=(45, 15))\n",
    "\n",
    "platform_visits_no_bot.plot(kind='bar', stacked=True, color=['lightblue', 'lightgreen', 'lightcoral'], ax=plt.gca())\n",
    "\n",
    "plt.title('Registrations by Platform (Stacked)', fontsize=14)\n",
    "plt.xlabel('date_group', fontsize=12)\n",
    "plt.ylabel('Registrations', fontsize=12)\n",
    "plt.xticks(ticks=range(len(platform_visits_no_bot.index)), labels=platform_visits_no_bot.index.date, rotation=45, fontsize=10)\n",
    "plt.yticks(fontsize=10)\n",
    "\n",
    "plt.grid(axis='y', linestyle='-', alpha=0.5)\n",
    "plt.grid(axis='x', linestyle='-', alpha=0.5)\n",
    "\n",
    "plt.legend(title='platform', fontsize=10)\n",
    "\n",
    "plt.tight_layout()\n",
    "plt.savefig('./charts/registrations_by_platform.png', dpi=300, bbox_inches='tight')\n",
    "plt.show()"
   ]
  },
  {
   "cell_type": "markdown",
   "id": "c7548f9e-7871-4876-b721-0af161f2cdb7",
   "metadata": {},
   "source": [
    "### Конверсия по каждой платформе"
   ]
  },
  {
   "cell_type": "code",
   "execution_count": null,
   "id": "cdd03472-02d9-48db-800a-bc0453614c43",
   "metadata": {},
   "outputs": [],
   "source": [
    "result_df_no_bot = result_df[result_df['platform'] != 'bot']\n",
    "\n",
    "platforms_no_bot = result_df_no_bot['platform'].unique()\n",
    "\n",
    "for platform in platforms_no_bot:\n",
    "    platform_data = result_df_no_bot[result_df_no_bot['platform'] == platform]\n",
    "\n",
    "    plt.figure(figsize=(14, 6))\n",
    "\n",
    "    plt.plot(platform_data['date_group'], platform_data['conversion'], marker='o', color='blue', label=f'Conversion ({platform})')\n",
    "\n",
    "    for x, y in zip(platform_data['date_group'], platform_data['conversion']):\n",
    "        plt.text(x, y + 0.5, f\"{y:.1f}%\", ha='center', fontsize=9)\n",
    "\n",
    "    weekly_ticks = pd.date_range(start='2023-03-01', end='2023-09-01', freq='7D')\n",
    "\n",
    "    plt.title(f'Conversion {platform.capitalize()}', fontsize=14)\n",
    "    plt.xlabel('Date', fontsize=12)\n",
    "    plt.ylabel('Conversion (%)', fontsize=12)\n",
    "    plt.xticks(ticks=weekly_ticks, labels=weekly_ticks.strftime('%Y-%m-%d'), rotation=45, fontsize=10)\n",
    "    plt.yticks(fontsize=10)\n",
    "    plt.grid(axis='both', linestyle='-', alpha=0.7)\n",
    "    plt.legend(fontsize=10)\n",
    "\n",
    "    plt.tight_layout()\n",
    "    plt.savefig('./charts/conversion_by_platform.png', dpi=300, bbox_inches='tight')\n",
    "    plt.show()"
   ]
  },
  {
   "cell_type": "markdown",
   "id": "3e88f439-0202-4df5-b502-e466c7c0cdca",
   "metadata": {},
   "source": [
    "### Итоговые конверсии"
   ]
  },
  {
   "cell_type": "code",
   "execution_count": null,
   "id": "9b6c4c86-a129-467b-b108-8056587cdcbe",
   "metadata": {},
   "outputs": [],
   "source": [
    "result_df_no_bot = result_df[result_df['platform'] != 'bot']\n",
    "\n",
    "result_df_weekly_no_bot = result_df_no_bot[(result_df_no_bot['date_group'] >= '2023-03-01') & \n",
    "                                             (result_df_no_bot['date_group'] <= '2023-05-01')]\n",
    "\n",
    "daily_conversion_no_bot = (\n",
    "    result_df_weekly_no_bot.groupby('date_group').apply(lambda x: x['registrations'].sum() / x['visits'].sum() * 100)\n",
    ").reset_index(name='conversion_rate')\n",
    "\n",
    "plt.figure(figsize=(14, 6))\n",
    "\n",
    "plt.plot(daily_conversion_no_bot['date_group'], daily_conversion_no_bot['conversion_rate'], marker='o', color='blue', label='Conversion Rate')\n",
    "\n",
    "for x, y in zip(daily_conversion_no_bot['date_group'], daily_conversion_no_bot['conversion_rate']):\n",
    "    plt.text(x, y + 0.5, f\"{y:.1f}%\", ha='center', fontsize=9)\n",
    "\n",
    "weekly_ticks = pd.date_range(start='2023-03-01', end='2023-05-01', freq='7D')\n",
    "\n",
    "plt.title('Overall Conversion', fontsize=14)\n",
    "plt.xlabel('Date', fontsize=12)\n",
    "plt.ylabel('Conversion (%)', fontsize=12)\n",
    "plt.xticks(ticks=weekly_ticks, labels=weekly_ticks.strftime('%Y-%m-%d'), rotation=45, fontsize=10)\n",
    "plt.yticks(fontsize=10)\n",
    "plt.grid(axis='both', linestyle='-', alpha=0.7)\n",
    "plt.legend(fontsize=10)\n",
    "\n",
    "plt.tight_layout()\n",
    "plt.savefig('./charts/overall_conversion.png', dpi=300, bbox_inches='tight')\n",
    "plt.show()"
   ]
  },
  {
   "cell_type": "markdown",
   "id": "191d18a9-a073-4f37-85a3-cd356285e632",
   "metadata": {},
   "source": [
    "### Стоимости реклам"
   ]
  },
  {
   "cell_type": "code",
   "execution_count": null,
   "id": "2d77028a-9ec6-459a-b71d-bbf298d7b3f8",
   "metadata": {},
   "outputs": [],
   "source": [
    "daily_cost = result_df.groupby('date_group')['cost'].sum().reset_index()\n",
    "\n",
    "plt.figure(figsize=(45, 15))\n",
    "plt.plot(daily_cost['date_group'], daily_cost['cost'], marker='o', color='lightgreen', label='Daily Advertising Cost')\n",
    "\n",
    "for x, y in zip(daily_cost['date_group'], daily_cost['cost']):\n",
    "    plt.text(x, y + 0.5, f\"{y:.2f} RUB\", ha='center', fontsize=9)\n",
    "\n",
    "plt.title('Aggregated Ad Campaign Costs (by day)', fontsize=14)\n",
    "plt.xlabel('Date', fontsize=12)\n",
    "plt.ylabel('Cost (RUB)', fontsize=12)\n",
    "plt.xticks(daily_cost['date_group'], daily_cost['date_group'].dt.strftime('%Y-%m-%d'), rotation=45, fontsize=10)\n",
    "plt.yticks(fontsize=10)\n",
    "plt.grid(axis='both', linestyle='-', alpha=0.7)\n",
    "plt.legend(fontsize=10)\n",
    "\n",
    "plt.grid(axis='x', linestyle='-', alpha=0.7)\n",
    "\n",
    "plt.tight_layout()\n",
    "plt.savefig('./charts/aggregated_ad_campaign_costs.png', dpi=300, bbox_inches='tight')\n",
    "plt.show()"
   ]
  },
  {
   "cell_type": "markdown",
   "id": "5065086c-3593-4b16-850b-4221fad6979e",
   "metadata": {},
   "source": [
    "### Визиты и регистрации за весь период с цветовым выделением рекламной кампании"
   ]
  },
  {
   "cell_type": "code",
   "execution_count": null,
   "id": "b415fb5b-1b04-48f3-8c67-563096fd314d",
   "metadata": {},
   "outputs": [],
   "source": [
    "daily_visits = result_df.groupby('date_group')['visits'].sum().reset_index()\n",
    "\n",
    "mean_visits = daily_visits['visits'].mean()\n",
    "\n",
    "plt.figure(figsize=(45, 15))\n",
    "plt.plot(daily_visits['date_group'], daily_visits['visits'], marker='o', color='blue', label='Daily Visits')\n",
    "\n",
    "plt.axhline(mean_visits, color='red', linestyle='--', linewidth=1.5, label='Average number of visits')\n",
    "\n",
    "campaigns = result_df['utm_campaign'].unique()\n",
    "campaign_colors = {campaign: color for campaign, color in zip(campaigns, cm.tab20.colors)}\n",
    "\n",
    "for campaign in campaigns:\n",
    "    if campaign != 'none':\n",
    "        campaign_data = result_df[result_df['utm_campaign'] == campaign]\n",
    "        if not campaign_data.empty:\n",
    "            start_date = campaign_data['date_group'].min()\n",
    "            end_date = campaign_data['date_group'].max()\n",
    "            plt.axvspan(\n",
    "                start_date, end_date, alpha=0.3, \n",
    "                color=campaign_colors[campaign], label=f'Campaign: {campaign}'\n",
    "            )\n",
    "\n",
    "plt.title('Visits during marketing active days', fontsize=14)\n",
    "plt.xlabel('Date', fontsize=12)\n",
    "plt.ylabel('Visits', fontsize=12)\n",
    "plt.xticks(daily_visits['date_group'], daily_visits['date_group'].dt.strftime('%Y-%m-%d'), rotation=45, fontsize=10)\n",
    "plt.yticks(fontsize=10)\n",
    "plt.grid(axis='both', linestyle='-', alpha=0.7)\n",
    "plt.legend(fontsize=10)\n",
    "\n",
    "plt.tight_layout()\n",
    "plt.savefig('./charts/visits_during_marketing_active_days.png', dpi=300, bbox_inches='tight')\n",
    "plt.show()"
   ]
  },
  {
   "cell_type": "code",
   "execution_count": null,
   "id": "cd44a8c7-e0ee-444b-8f1b-1ef25f6b2832",
   "metadata": {},
   "outputs": [],
   "source": [
    "daily_registrations = result_df.groupby('date_group')['registrations'].sum().reset_index()\n",
    "\n",
    "mean_registrations = daily_registrations['registrations'].mean()\n",
    "\n",
    "plt.figure(figsize=(45, 15))\n",
    "plt.plot(daily_registrations['date_group'], daily_registrations['registrations'], marker='o', color='green', label='Daily Registrations')\n",
    "\n",
    "plt.axhline(mean_registrations, color='red', linestyle='--', linewidth=1.5, label='Average number of registrations')\n",
    "\n",
    "campaigns = result_df['utm_campaign'].unique()\n",
    "campaign_colors = {campaign: color for campaign, color in zip(campaigns, cm.tab20.colors)}\n",
    "\n",
    "for campaign in campaigns:\n",
    "    if campaign != 'none':\n",
    "        campaign_data = result_df[result_df['utm_campaign'] == campaign]\n",
    "        if not campaign_data.empty:\n",
    "            start_date = campaign_data['date_group'].min()\n",
    "            end_date = campaign_data['date_group'].max()\n",
    "            plt.axvspan(\n",
    "                start_date, end_date, alpha=0.3, \n",
    "                color=campaign_colors[campaign], label=f'Campaign: {campaign}'\n",
    "            )\n",
    "\n",
    "plt.title('Registrations during marketing active days', fontsize=14)\n",
    "plt.xlabel('Date', fontsize=12)\n",
    "plt.ylabel('Registrations', fontsize=12)\n",
    "plt.xticks(daily_registrations['date_group'], daily_registrations['date_group'].dt.strftime('%Y-%m-%d'), rotation=45, fontsize=10)\n",
    "plt.yticks(fontsize=10)\n",
    "plt.grid(axis='both', linestyle='-', alpha=0.7)\n",
    "plt.legend(fontsize=10)\n",
    "\n",
    "plt.tight_layout()\n",
    "plt.savefig('./charts/registrations_during_marketing_active_days.png', dpi=300, bbox_inches='tight')\n",
    "plt.show()"
   ]
  },
  {
   "cell_type": "code",
   "execution_count": null,
   "id": "c9d2f9c0-c3c9-4e59-af43-bc97d4b8cd8b",
   "metadata": {},
   "outputs": [],
   "source": []
  }
 ],
 "metadata": {
  "kernelspec": {
   "display_name": "Python 3 (ipykernel)",
   "language": "python",
   "name": "python3"
  },
  "language_info": {
   "codemirror_mode": {
    "name": "ipython",
    "version": 3
   },
   "file_extension": ".py",
   "mimetype": "text/x-python",
   "name": "python",
   "nbconvert_exporter": "python",
   "pygments_lexer": "ipython3",
   "version": "3.12.7"
  }
 },
 "nbformat": 4,
 "nbformat_minor": 5
}
