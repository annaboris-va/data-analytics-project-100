{
 "cells": [
  {
   "cell_type": "code",
   "execution_count": 57,
   "id": "6e944c2b-0c95-4d4d-934f-4e3b2cd0ec50",
   "metadata": {},
   "outputs": [],
   "source": [
    "import pandas as pd\n",
    "import numpy as np\n",
    "import requests"
   ]
  },
  {
   "cell_type": "code",
   "execution_count": 58,
   "id": "4ae82f40-05a6-41f6-817e-2912d59716c4",
   "metadata": {},
   "outputs": [],
   "source": [
    "r1 = requests.get('https://data-charts-api.hexlet.app/visits?begin=2023-03-01&end=2023-09-01')\n",
    "visits_data = r1.json()\n",
    "visits_df = pd.DataFrame(visits_data)\n",
    "\n",
    "# Исключение ботов\n",
    "visits_df = visits_df[visits_df['user_agent'] != 'bots']\n",
    "\n",
    "# Оставляем только последний визит пользователя\n",
    "visits_df['datetime'] = pd.to_datetime(visits_df['datetime'])\n",
    "visits_df = visits_df.sort_values(by=['datetime']).drop_duplicates(subset=['visit_id'], keep='last')\n",
    "\n",
    "r2 = requests.get('https://data-charts-api.hexlet.app/registrations?begin=2023-03-01&end=2023-09-01')\n",
    "data_regs = r2.json()\n",
    "regs_df = pd.DataFrame(data_regs)\n",
    "\n",
    "regs_df['datetime'] = pd.to_datetime(regs_df['datetime'])\n",
    "regs_df['date_group'] = regs_df['datetime'].dt.date\n",
    "visits_df['date_group'] = visits_df['datetime'].dt.date\n",
    "\n",
    "regs_grouped = regs_df.groupby(['date_group', 'platform']).size().reset_index(name='registrations')\n",
    "visits_grouped = visits_df.groupby(['date_group', 'platform']).size().reset_index(name='visits')\n",
    "\n",
    "regs_grouped['date_group'] = pd.to_datetime(regs_grouped['date_group'])\n",
    "visits_grouped['date_group'] = pd.to_datetime(visits_grouped['date_group'])\n",
    "\n",
    "# Объединение данных с inner join\n",
    "merged_df = pd.merge(regs_grouped, visits_grouped, on=['date_group', 'platform'], how='inner')\n",
    "\n",
    "# Приведение типов\n",
    "merged_df['registrations'] = merged_df['registrations'].astype(int)\n",
    "merged_df['visits'] = merged_df['visits'].astype(int)\n",
    "\n",
    "# Расчет conversion без округления\n",
    "merged_df['conversion'] = np.where(\n",
    "    merged_df['visits'] == 0, 0, \n",
    "    merged_df['registrations'] / merged_df['visits'] * 100\n",
    ")\n",
    "\n",
    "# Упорядочивание колонок\n",
    "merged_df = merged_df[['date_group', 'platform', 'visits', 'registrations', 'conversion']]\n",
    "\n",
    "# Сохранение JSON\n",
    "merged_df.to_json('./conversion.json')"
   ]
  },
  {
   "cell_type": "code",
   "execution_count": null,
   "id": "c8807158-7f9d-4146-9c68-7892153b4b1e",
   "metadata": {},
   "outputs": [],
   "source": []
  }
 ],
 "metadata": {
  "kernelspec": {
   "display_name": "Python 3 (ipykernel)",
   "language": "python",
   "name": "python3"
  },
  "language_info": {
   "codemirror_mode": {
    "name": "ipython",
    "version": 3
   },
   "file_extension": ".py",
   "mimetype": "text/x-python",
   "name": "python",
   "nbconvert_exporter": "python",
   "pygments_lexer": "ipython3",
   "version": "3.12.7"
  }
 },
 "nbformat": 4,
 "nbformat_minor": 5
}
