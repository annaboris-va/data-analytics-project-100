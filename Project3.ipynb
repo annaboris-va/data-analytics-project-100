{
 "cells": [
  {
   "cell_type": "code",
   "execution_count": 57,
   "id": "6e944c2b-0c95-4d4d-934f-4e3b2cd0ec50",
   "metadata": {},
   "outputs": [],
   "source": [
    "import pandas as pd\n",
    "import numpy as np\n",
    "import requests"
   ]
  },
  {
   "cell_type": "code",
   "execution_count": 58,
   "id": "4ae82f40-05a6-41f6-817e-2912d59716c4",
   "metadata": {},
   "outputs": [],
   "source": [
    "r1 = requests.get('https://data-charts-api.hexlet.app/visits?begin=2023-03-01&end=2023-09-01')\n",
    "visits_data = r1.json()\n",
    "visits_df = pd.DataFrame(visits_data)\n",
    "\n",
    "# Исключение ботов\n",
    "visits_df = visits_df[visits_df['user_agent'] != 'bots']\n",
    "\n",
    "# Оставляем только последний визит пользователя\n",
    "visits_df['datetime'] = pd.to_datetime(visits_df['datetime'])\n",
    "visits_df = visits_df.sort_values(by=['datetime']).drop_duplicates(subset=['visit_id'], keep='last')\n",
    "\n",
    "r2 = requests.get('https://data-charts-api.hexlet.app/registrations?begin=2023-03-01&end=2023-09-01')\n",
    "data_regs = r2.json()\n",
    "regs_df = pd.DataFrame(data_regs)\n",
    "\n",
    "regs_df['datetime'] = pd.to_datetime(regs_df['datetime'])\n",
    "regs_df['date_group'] = regs_df['datetime'].dt.date\n",
    "visits_df['date_group'] = visits_df['datetime'].dt.date\n",
    "\n",
    "regs_grouped = regs_df.groupby(['date_group', 'platform']).size().reset_index(name='registrations')\n",
    "visits_grouped = visits_df.groupby(['date_group', 'platform']).size().reset_index(name='visits')\n",
    "\n",
    "regs_grouped['date_group'] = pd.to_datetime(regs_grouped['date_group'])\n",
    "visits_grouped['date_group'] = pd.to_datetime(visits_grouped['date_group'])\n",
    "\n",
    "# Объединение данных с inner join\n",
    "merged_df = pd.merge(regs_grouped, visits_grouped, on=['date_group', 'platform'], how='inner')\n",
    "\n",
    "# Приведение типов\n",
    "merged_df['registrations'] = merged_df['registrations'].astype(int)\n",
    "merged_df['visits'] = merged_df['visits'].astype(int)\n",
    "\n",
    "# Расчет conversion без округления\n",
    "merged_df['conversion'] = np.where(\n",
    "    merged_df['visits'] == 0, 0, \n",
    "    merged_df['registrations'] / merged_df['visits'] * 100\n",
    ")\n",
    "\n",
    "# Упорядочивание колонок\n",
    "merged_df = merged_df[['date_group', 'platform', 'visits', 'registrations', 'conversion']]\n",
    "\n",
    "# Сохранение JSON\n",
    "merged_df.to_json('./conversion.json')"
   ]
  },
  {
   "cell_type": "code",
   "execution_count": 59,
   "id": "c8807158-7f9d-4146-9c68-7892153b4b1e",
   "metadata": {},
   "outputs": [],
   "source": [
    "ads_df = pd.read_csv('ads.csv')\n",
    "ads_df['date'] = pd.to_datetime(ads_df['date'])\n",
    "ads_df['date_group'] = ads_df['date'].dt.date"
   ]
  },
  {
   "cell_type": "code",
   "execution_count": 60,
   "id": "34e4a8ae-1e0d-4b19-83ba-2a12bafe9811",
   "metadata": {},
   "outputs": [],
   "source": [
    "ads_grouped = ads_df.groupby(['date_group', 'utm_campaign'])['cost'].sum().reset_index()\n",
    "ads_grouped['date_group'] = pd.to_datetime(ads_grouped['date_group'])\n",
    "merged_df['date_group'] = pd.to_datetime(merged_df['date_group'], unit='ms')"
   ]
  },
  {
   "cell_type": "code",
   "execution_count": 61,
   "id": "71aacae8-5f60-4c81-8569-55779ea63ef7",
   "metadata": {},
   "outputs": [],
   "source": [
    "result_df = pd.merge(merged_df, ads_grouped, on='date_group', how='left')\n",
    "result_df.fillna({'cost': 0, 'utm_campaign': 'none'}, inplace=True)\n",
    "result_df.to_json('ads.json', orient='records')"
   ]
  }
 ],
 "metadata": {
  "kernelspec": {
   "display_name": "Python 3 (ipykernel)",
   "language": "python",
   "name": "python3"
  },
  "language_info": {
   "codemirror_mode": {
    "name": "ipython",
    "version": 3
   },
   "file_extension": ".py",
   "mimetype": "text/x-python",
   "name": "python",
   "nbconvert_exporter": "python",
   "pygments_lexer": "ipython3",
   "version": "3.12.7"
  }
 },
 "nbformat": 4,
 "nbformat_minor": 5
}
